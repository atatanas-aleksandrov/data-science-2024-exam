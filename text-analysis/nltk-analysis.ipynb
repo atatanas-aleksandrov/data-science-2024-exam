{
 "cells": [
  {
   "cell_type": "code",
   "execution_count": 1,
   "id": "4e7d8902-9f31-494e-ac23-f8fd445ab513",
   "metadata": {},
   "outputs": [],
   "source": [
    "import pandas as pd\n",
    "from nltk.sentiment.vader import SentimentIntensityAnalyzer"
   ]
  },
  {
   "cell_type": "markdown",
   "id": "a3b56772-604a-4e88-bebd-17ecd0091a3d",
   "metadata": {},
   "source": [
    "# NLTK analysis\n",
    "In this notebook I will use the NLTK library to analyze the `polarity sentiment` of the lyrics. In other words I will recieve a\n",
    "number "
   ]
  },
  {
   "cell_type": "code",
   "execution_count": 2,
   "id": "7ef17e48-c8d3-441c-92a0-3cd2359ca1c9",
   "metadata": {},
   "outputs": [],
   "source": [
    "# reads the data set\n",
    "songs = pd.read_csv(\"../data/results/processed_lyrics\")"
   ]
  },
  {
   "cell_type": "code",
   "execution_count": 3,
   "id": "6c32455d-dff0-4ed5-bfe7-ff6e8dc1febd",
   "metadata": {},
   "outputs": [
    {
     "data": {
      "text/html": [
       "<div>\n",
       "<style scoped>\n",
       "    .dataframe tbody tr th:only-of-type {\n",
       "        vertical-align: middle;\n",
       "    }\n",
       "\n",
       "    .dataframe tbody tr th {\n",
       "        vertical-align: top;\n",
       "    }\n",
       "\n",
       "    .dataframe thead th {\n",
       "        text-align: right;\n",
       "    }\n",
       "</style>\n",
       "<table border=\"1\" class=\"dataframe\">\n",
       "  <thead>\n",
       "    <tr style=\"text-align: right;\">\n",
       "      <th></th>\n",
       "      <th>album</th>\n",
       "      <th>song</th>\n",
       "      <th>words</th>\n",
       "      <th>joined_words</th>\n",
       "    </tr>\n",
       "  </thead>\n",
       "  <tbody>\n",
       "    <tr>\n",
       "      <th>0</th>\n",
       "      <td>11.TTPD</td>\n",
       "      <td>HowDidItEnd</td>\n",
       "      <td>['hereby', 'conduct', 'postmortem', 'hot', 'ho...</td>\n",
       "      <td>hereby conduct postmortem hot house flower out...</td>\n",
       "    </tr>\n",
       "    <tr>\n",
       "      <th>1</th>\n",
       "      <td>11.TTPD</td>\n",
       "      <td>TheBolter</td>\n",
       "      <td>['account', 'almost', 'drowned', 'six', 'frigi...</td>\n",
       "      <td>account almost drowned six frigid water confir...</td>\n",
       "    </tr>\n",
       "    <tr>\n",
       "      <th>2</th>\n",
       "      <td>11.TTPD</td>\n",
       "      <td>Peter</td>\n",
       "      <td>['forgive', 'peter', 'lost', 'fearless', 'lead...</td>\n",
       "      <td>forgive peter lost fearless leader closet like...</td>\n",
       "    </tr>\n",
       "    <tr>\n",
       "      <th>3</th>\n",
       "      <td>11.TTPD</td>\n",
       "      <td>imgonnagetyouback</td>\n",
       "      <td>['lilac', 'short', 'skirt', 'one', 'fit', 'lik...</td>\n",
       "      <td>lilac short skirt one fit like skin research k...</td>\n",
       "    </tr>\n",
       "    <tr>\n",
       "      <th>4</th>\n",
       "      <td>11.TTPD</td>\n",
       "      <td>DownBad</td>\n",
       "      <td>['really', 'beam', 'cloud', 'sparkling', 'dust...</td>\n",
       "      <td>really beam cloud sparkling dust experiment te...</td>\n",
       "    </tr>\n",
       "    <tr>\n",
       "      <th>...</th>\n",
       "      <td>...</td>\n",
       "      <td>...</td>\n",
       "      <td>...</td>\n",
       "      <td>...</td>\n",
       "    </tr>\n",
       "    <tr>\n",
       "      <th>237</th>\n",
       "      <td>7.Lover</td>\n",
       "      <td>MissAmericanaTheHeartbreakPrince</td>\n",
       "      <td>['know', 'adore', \"i'm\", 'crazier', '16', 'los...</td>\n",
       "      <td>know adore i'm crazier 16 lost film scene wavi...</td>\n",
       "    </tr>\n",
       "    <tr>\n",
       "      <th>238</th>\n",
       "      <td>7.Lover</td>\n",
       "      <td>CruelSummer</td>\n",
       "      <td>['fever', 'dream', 'high', 'quiet', 'night', '...</td>\n",
       "      <td>fever dream high quiet night know caught oh ri...</td>\n",
       "    </tr>\n",
       "    <tr>\n",
       "      <th>239</th>\n",
       "      <td>7.Lover</td>\n",
       "      <td>LondonBoy</td>\n",
       "      <td>['go', \"drivin'\", 'scooter', 'uh', 'know', \"'r...</td>\n",
       "      <td>go drivin' scooter uh know 'round london oh i'...</td>\n",
       "    </tr>\n",
       "    <tr>\n",
       "      <th>240</th>\n",
       "      <td>7.Lover</td>\n",
       "      <td>FalseGod</td>\n",
       "      <td>['crazy', 'think', 'crazy', 'think', 'could', ...</td>\n",
       "      <td>crazy think crazy think could work remember sa...</td>\n",
       "    </tr>\n",
       "    <tr>\n",
       "      <th>241</th>\n",
       "      <td>7.Lover</td>\n",
       "      <td>IThinkHeKnows</td>\n",
       "      <td>['think', 'know', 'footprint', 'sidewalk', 'le...</td>\n",
       "      <td>think know footprint sidewalk lead can't stop ...</td>\n",
       "    </tr>\n",
       "  </tbody>\n",
       "</table>\n",
       "<p>242 rows × 4 columns</p>\n",
       "</div>"
      ],
      "text/plain": [
       "       album                              song  \\\n",
       "0    11.TTPD                       HowDidItEnd   \n",
       "1    11.TTPD                         TheBolter   \n",
       "2    11.TTPD                             Peter   \n",
       "3    11.TTPD                 imgonnagetyouback   \n",
       "4    11.TTPD                           DownBad   \n",
       "..       ...                               ...   \n",
       "237  7.Lover  MissAmericanaTheHeartbreakPrince   \n",
       "238  7.Lover                       CruelSummer   \n",
       "239  7.Lover                         LondonBoy   \n",
       "240  7.Lover                          FalseGod   \n",
       "241  7.Lover                     IThinkHeKnows   \n",
       "\n",
       "                                                 words  \\\n",
       "0    ['hereby', 'conduct', 'postmortem', 'hot', 'ho...   \n",
       "1    ['account', 'almost', 'drowned', 'six', 'frigi...   \n",
       "2    ['forgive', 'peter', 'lost', 'fearless', 'lead...   \n",
       "3    ['lilac', 'short', 'skirt', 'one', 'fit', 'lik...   \n",
       "4    ['really', 'beam', 'cloud', 'sparkling', 'dust...   \n",
       "..                                                 ...   \n",
       "237  ['know', 'adore', \"i'm\", 'crazier', '16', 'los...   \n",
       "238  ['fever', 'dream', 'high', 'quiet', 'night', '...   \n",
       "239  ['go', \"drivin'\", 'scooter', 'uh', 'know', \"'r...   \n",
       "240  ['crazy', 'think', 'crazy', 'think', 'could', ...   \n",
       "241  ['think', 'know', 'footprint', 'sidewalk', 'le...   \n",
       "\n",
       "                                          joined_words  \n",
       "0    hereby conduct postmortem hot house flower out...  \n",
       "1    account almost drowned six frigid water confir...  \n",
       "2    forgive peter lost fearless leader closet like...  \n",
       "3    lilac short skirt one fit like skin research k...  \n",
       "4    really beam cloud sparkling dust experiment te...  \n",
       "..                                                 ...  \n",
       "237  know adore i'm crazier 16 lost film scene wavi...  \n",
       "238  fever dream high quiet night know caught oh ri...  \n",
       "239  go drivin' scooter uh know 'round london oh i'...  \n",
       "240  crazy think crazy think could work remember sa...  \n",
       "241  think know footprint sidewalk lead can't stop ...  \n",
       "\n",
       "[242 rows x 4 columns]"
      ]
     },
     "execution_count": 3,
     "metadata": {},
     "output_type": "execute_result"
    }
   ],
   "source": [
    "songs"
   ]
  },
  {
   "cell_type": "code",
   "execution_count": 4,
   "id": "f435e699-5146-4c70-a03c-d8429213ca3e",
   "metadata": {},
   "outputs": [],
   "source": [
    "#instantiates the analyzer\n",
    "analyzer = SentimentIntensityAnalyzer()"
   ]
  },
  {
   "cell_type": "code",
   "execution_count": 5,
   "id": "60d2ba30-cb5c-4865-909d-cdbebd59c140",
   "metadata": {},
   "outputs": [
    {
     "data": {
      "text/plain": [
       "0      {'neg': 0.143, 'neu': 0.618, 'pos': 0.239, 'co...\n",
       "1      {'neg': 0.144, 'neu': 0.523, 'pos': 0.334, 'co...\n",
       "2      {'neg': 0.06, 'neu': 0.774, 'pos': 0.166, 'com...\n",
       "3      {'neg': 0.096, 'neu': 0.724, 'pos': 0.179, 'co...\n",
       "4      {'neg': 0.392, 'neu': 0.483, 'pos': 0.125, 'co...\n",
       "                             ...                        \n",
       "237    {'neg': 0.312, 'neu': 0.485, 'pos': 0.203, 'co...\n",
       "238    {'neg': 0.244, 'neu': 0.536, 'pos': 0.22, 'com...\n",
       "239    {'neg': 0.013, 'neu': 0.565, 'pos': 0.423, 'co...\n",
       "240    {'neg': 0.225, 'neu': 0.43, 'pos': 0.345, 'com...\n",
       "241    {'neg': 0.02, 'neu': 0.607, 'pos': 0.372, 'com...\n",
       "Name: joined_words, Length: 242, dtype: object"
      ]
     },
     "execution_count": 5,
     "metadata": {},
     "output_type": "execute_result"
    }
   ],
   "source": [
    "# Applying the analyzer to all lyrics\n",
    "songs.joined_words.apply(analyzer.polarity_scores)"
   ]
  },
  {
   "cell_type": "code",
   "execution_count": 6,
   "id": "857df0e1-b5b3-4086-babf-63a90971fa89",
   "metadata": {},
   "outputs": [
    {
     "data": {
      "text/plain": [
       "{'neg': 0.06, 'neu': 0.774, 'pos': 0.166, 'compound': 0.9723}"
      ]
     },
     "execution_count": 6,
     "metadata": {},
     "output_type": "execute_result"
    }
   ],
   "source": [
    "analyzer.polarity_scores(songs.joined_words[2])"
   ]
  },
  {
   "cell_type": "code",
   "execution_count": 7,
   "id": "b62e3193-c756-480c-a477-3f7c1dca16f6",
   "metadata": {},
   "outputs": [],
   "source": [
    "# Sampling the scores of all the songs into an array\n",
    "song_scores = songs.joined_words.apply(analyzer.polarity_scores)"
   ]
  },
  {
   "cell_type": "code",
   "execution_count": 8,
   "id": "50e1a630-d1b6-47c1-b99a-f33fe65654f6",
   "metadata": {},
   "outputs": [
    {
     "data": {
      "text/plain": [
       "0      {'neg': 0.143, 'neu': 0.618, 'pos': 0.239, 'co...\n",
       "1      {'neg': 0.144, 'neu': 0.523, 'pos': 0.334, 'co...\n",
       "2      {'neg': 0.06, 'neu': 0.774, 'pos': 0.166, 'com...\n",
       "3      {'neg': 0.096, 'neu': 0.724, 'pos': 0.179, 'co...\n",
       "4      {'neg': 0.392, 'neu': 0.483, 'pos': 0.125, 'co...\n",
       "                             ...                        \n",
       "237    {'neg': 0.312, 'neu': 0.485, 'pos': 0.203, 'co...\n",
       "238    {'neg': 0.244, 'neu': 0.536, 'pos': 0.22, 'com...\n",
       "239    {'neg': 0.013, 'neu': 0.565, 'pos': 0.423, 'co...\n",
       "240    {'neg': 0.225, 'neu': 0.43, 'pos': 0.345, 'com...\n",
       "241    {'neg': 0.02, 'neu': 0.607, 'pos': 0.372, 'com...\n",
       "Name: joined_words, Length: 242, dtype: object"
      ]
     },
     "execution_count": 8,
     "metadata": {},
     "output_type": "execute_result"
    }
   ],
   "source": [
    "song_scores"
   ]
  },
  {
   "cell_type": "code",
   "execution_count": 9,
   "id": "05292c33-2c00-440d-b0e6-bc22c3bde85c",
   "metadata": {},
   "outputs": [],
   "source": [
    "songs['nltk_score'] = songs.joined_words.apply(analyzer.polarity_scores).apply(\n",
    "                                lambda score: score['compound']).apply(lambda x: 1 if x > 0.5 else 0)"
   ]
  },
  {
   "cell_type": "code",
   "execution_count": 10,
   "id": "4fdd6905-1a72-488e-a58c-a08c15a5baf0",
   "metadata": {},
   "outputs": [
    {
     "data": {
      "text/html": [
       "<div>\n",
       "<style scoped>\n",
       "    .dataframe tbody tr th:only-of-type {\n",
       "        vertical-align: middle;\n",
       "    }\n",
       "\n",
       "    .dataframe tbody tr th {\n",
       "        vertical-align: top;\n",
       "    }\n",
       "\n",
       "    .dataframe thead th {\n",
       "        text-align: right;\n",
       "    }\n",
       "</style>\n",
       "<table border=\"1\" class=\"dataframe\">\n",
       "  <thead>\n",
       "    <tr style=\"text-align: right;\">\n",
       "      <th></th>\n",
       "      <th>album</th>\n",
       "      <th>song</th>\n",
       "      <th>words</th>\n",
       "      <th>joined_words</th>\n",
       "      <th>nltk_score</th>\n",
       "    </tr>\n",
       "  </thead>\n",
       "  <tbody>\n",
       "    <tr>\n",
       "      <th>0</th>\n",
       "      <td>11.TTPD</td>\n",
       "      <td>HowDidItEnd</td>\n",
       "      <td>['hereby', 'conduct', 'postmortem', 'hot', 'ho...</td>\n",
       "      <td>hereby conduct postmortem hot house flower out...</td>\n",
       "      <td>1</td>\n",
       "    </tr>\n",
       "    <tr>\n",
       "      <th>1</th>\n",
       "      <td>11.TTPD</td>\n",
       "      <td>TheBolter</td>\n",
       "      <td>['account', 'almost', 'drowned', 'six', 'frigi...</td>\n",
       "      <td>account almost drowned six frigid water confir...</td>\n",
       "      <td>1</td>\n",
       "    </tr>\n",
       "    <tr>\n",
       "      <th>2</th>\n",
       "      <td>11.TTPD</td>\n",
       "      <td>Peter</td>\n",
       "      <td>['forgive', 'peter', 'lost', 'fearless', 'lead...</td>\n",
       "      <td>forgive peter lost fearless leader closet like...</td>\n",
       "      <td>1</td>\n",
       "    </tr>\n",
       "    <tr>\n",
       "      <th>3</th>\n",
       "      <td>11.TTPD</td>\n",
       "      <td>imgonnagetyouback</td>\n",
       "      <td>['lilac', 'short', 'skirt', 'one', 'fit', 'lik...</td>\n",
       "      <td>lilac short skirt one fit like skin research k...</td>\n",
       "      <td>1</td>\n",
       "    </tr>\n",
       "    <tr>\n",
       "      <th>4</th>\n",
       "      <td>11.TTPD</td>\n",
       "      <td>DownBad</td>\n",
       "      <td>['really', 'beam', 'cloud', 'sparkling', 'dust...</td>\n",
       "      <td>really beam cloud sparkling dust experiment te...</td>\n",
       "      <td>0</td>\n",
       "    </tr>\n",
       "    <tr>\n",
       "      <th>...</th>\n",
       "      <td>...</td>\n",
       "      <td>...</td>\n",
       "      <td>...</td>\n",
       "      <td>...</td>\n",
       "      <td>...</td>\n",
       "    </tr>\n",
       "    <tr>\n",
       "      <th>237</th>\n",
       "      <td>7.Lover</td>\n",
       "      <td>MissAmericanaTheHeartbreakPrince</td>\n",
       "      <td>['know', 'adore', \"i'm\", 'crazier', '16', 'los...</td>\n",
       "      <td>know adore i'm crazier 16 lost film scene wavi...</td>\n",
       "      <td>0</td>\n",
       "    </tr>\n",
       "    <tr>\n",
       "      <th>238</th>\n",
       "      <td>7.Lover</td>\n",
       "      <td>CruelSummer</td>\n",
       "      <td>['fever', 'dream', 'high', 'quiet', 'night', '...</td>\n",
       "      <td>fever dream high quiet night know caught oh ri...</td>\n",
       "      <td>0</td>\n",
       "    </tr>\n",
       "    <tr>\n",
       "      <th>239</th>\n",
       "      <td>7.Lover</td>\n",
       "      <td>LondonBoy</td>\n",
       "      <td>['go', \"drivin'\", 'scooter', 'uh', 'know', \"'r...</td>\n",
       "      <td>go drivin' scooter uh know 'round london oh i'...</td>\n",
       "      <td>1</td>\n",
       "    </tr>\n",
       "    <tr>\n",
       "      <th>240</th>\n",
       "      <td>7.Lover</td>\n",
       "      <td>FalseGod</td>\n",
       "      <td>['crazy', 'think', 'crazy', 'think', 'could', ...</td>\n",
       "      <td>crazy think crazy think could work remember sa...</td>\n",
       "      <td>1</td>\n",
       "    </tr>\n",
       "    <tr>\n",
       "      <th>241</th>\n",
       "      <td>7.Lover</td>\n",
       "      <td>IThinkHeKnows</td>\n",
       "      <td>['think', 'know', 'footprint', 'sidewalk', 'le...</td>\n",
       "      <td>think know footprint sidewalk lead can't stop ...</td>\n",
       "      <td>1</td>\n",
       "    </tr>\n",
       "  </tbody>\n",
       "</table>\n",
       "<p>242 rows × 5 columns</p>\n",
       "</div>"
      ],
      "text/plain": [
       "       album                              song  \\\n",
       "0    11.TTPD                       HowDidItEnd   \n",
       "1    11.TTPD                         TheBolter   \n",
       "2    11.TTPD                             Peter   \n",
       "3    11.TTPD                 imgonnagetyouback   \n",
       "4    11.TTPD                           DownBad   \n",
       "..       ...                               ...   \n",
       "237  7.Lover  MissAmericanaTheHeartbreakPrince   \n",
       "238  7.Lover                       CruelSummer   \n",
       "239  7.Lover                         LondonBoy   \n",
       "240  7.Lover                          FalseGod   \n",
       "241  7.Lover                     IThinkHeKnows   \n",
       "\n",
       "                                                 words  \\\n",
       "0    ['hereby', 'conduct', 'postmortem', 'hot', 'ho...   \n",
       "1    ['account', 'almost', 'drowned', 'six', 'frigi...   \n",
       "2    ['forgive', 'peter', 'lost', 'fearless', 'lead...   \n",
       "3    ['lilac', 'short', 'skirt', 'one', 'fit', 'lik...   \n",
       "4    ['really', 'beam', 'cloud', 'sparkling', 'dust...   \n",
       "..                                                 ...   \n",
       "237  ['know', 'adore', \"i'm\", 'crazier', '16', 'los...   \n",
       "238  ['fever', 'dream', 'high', 'quiet', 'night', '...   \n",
       "239  ['go', \"drivin'\", 'scooter', 'uh', 'know', \"'r...   \n",
       "240  ['crazy', 'think', 'crazy', 'think', 'could', ...   \n",
       "241  ['think', 'know', 'footprint', 'sidewalk', 'le...   \n",
       "\n",
       "                                          joined_words  nltk_score  \n",
       "0    hereby conduct postmortem hot house flower out...           1  \n",
       "1    account almost drowned six frigid water confir...           1  \n",
       "2    forgive peter lost fearless leader closet like...           1  \n",
       "3    lilac short skirt one fit like skin research k...           1  \n",
       "4    really beam cloud sparkling dust experiment te...           0  \n",
       "..                                                 ...         ...  \n",
       "237  know adore i'm crazier 16 lost film scene wavi...           0  \n",
       "238  fever dream high quiet night know caught oh ri...           0  \n",
       "239  go drivin' scooter uh know 'round london oh i'...           1  \n",
       "240  crazy think crazy think could work remember sa...           1  \n",
       "241  think know footprint sidewalk lead can't stop ...           1  \n",
       "\n",
       "[242 rows x 5 columns]"
      ]
     },
     "execution_count": 10,
     "metadata": {},
     "output_type": "execute_result"
    }
   ],
   "source": [
    "songs"
   ]
  },
  {
   "cell_type": "code",
   "execution_count": 11,
   "id": "d62c68a7-c11d-4ebf-adb9-8775fed718d1",
   "metadata": {},
   "outputs": [
    {
     "data": {
      "text/plain": [
       "1    172\n",
       "0     70\n",
       "Name: nltk_score, dtype: int64"
      ]
     },
     "execution_count": 11,
     "metadata": {},
     "output_type": "execute_result"
    }
   ],
   "source": [
    "songs.nltk_score.value_counts()"
   ]
  },
  {
   "cell_type": "code",
   "execution_count": 12,
   "id": "23106366-45ac-4aa4-8e8a-1c439e586b85",
   "metadata": {},
   "outputs": [],
   "source": [
    "songs.to_csv('../data/results/nltk-scores', index= False)"
   ]
  }
 ],
 "metadata": {
  "kernelspec": {
   "display_name": "Python 3 (ipykernel)",
   "language": "python",
   "name": "python3"
  },
  "language_info": {
   "codemirror_mode": {
    "name": "ipython",
    "version": 3
   },
   "file_extension": ".py",
   "mimetype": "text/x-python",
   "name": "python",
   "nbconvert_exporter": "python",
   "pygments_lexer": "ipython3",
   "version": "3.9.16"
  }
 },
 "nbformat": 4,
 "nbformat_minor": 5
}
